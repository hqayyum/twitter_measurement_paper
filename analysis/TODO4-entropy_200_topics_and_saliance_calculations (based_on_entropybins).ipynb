version https://git-lfs.github.com/spec/v1
oid sha256:924e6686109d1b2efd89e6b8e46b9ef1846f9104553640a9b06ca0affeba95f0
size 88724
