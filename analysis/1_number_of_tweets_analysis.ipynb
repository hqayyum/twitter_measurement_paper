version https://git-lfs.github.com/spec/v1
oid sha256:bc3ce0d3fba0c05eb9ffca3bc9bf54561f7178064f4da0f2d2b154ec49e0bc63
size 286148
