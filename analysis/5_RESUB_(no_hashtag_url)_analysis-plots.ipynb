version https://git-lfs.github.com/spec/v1
oid sha256:27a0c338967178be16aae844d9f2f70e50695f0ccf88a68f74c0ae1e5b457e3c
size 254764
