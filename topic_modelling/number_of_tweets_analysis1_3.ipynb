version https://git-lfs.github.com/spec/v1
oid sha256:a24408da05034c725d195fac8754cf8946bf4677c2a059b9583b22f1d80424ae
size 68719
