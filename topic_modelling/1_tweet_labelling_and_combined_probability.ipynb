version https://git-lfs.github.com/spec/v1
oid sha256:23d4780cd536fc2e87d88e64221712e61e441c1648b018c1967b0e1d2e410dc1
size 1222975
