version https://git-lfs.github.com/spec/v1
oid sha256:79eb8cda4a5cf8c6715ba887da2369c27d27e0465285d9afa3522f9ef9aaa05e
size 1215127
